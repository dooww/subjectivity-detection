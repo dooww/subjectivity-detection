{
 "cells": [
  {
   "cell_type": "code",
   "execution_count": 9,
   "metadata": {},
   "outputs": [],
   "source": [
    "from newspaper import Article \n",
    "import newspaper\n",
    "from bs4 import BeautifulSoup\n",
    "import urllib.request\n",
    "import re\n",
    "import pandas as pd\n",
    "import numpy as np\n",
    "import requests"
   ]
  },
  {
   "cell_type": "code",
   "execution_count": 4,
   "metadata": {},
   "outputs": [],
   "source": [
    "#list is the list of  url within the website\n",
    "#first try with newspaper3k \n",
    "#failed \n",
    "#ip change for every 3 call\n",
    "def scrapwebsite(url):\n",
    "    list=[]\n",
    "    site= newspaper.build(url)\n",
    "    for article in site.articles :\n",
    "        try:\n",
    "            article.download()\n",
    "            article.parse()\n",
    "            article.nlp()\n",
    "            art=article.text\n",
    "            auth=article.authors\n",
    "            date=article.publish_date\n",
    "            title=article.title\n",
    "            dec={\"auth\": auth,\"date\" : date,\"title\": title,\"art\" : art}\n",
    "            list.append(dec)\n",
    "        except:\n",
    "            print(\"website problem\")\n",
    "    return(list)"
   ]
  },
  {
   "cell_type": "code",
   "execution_count": 7,
   "metadata": {},
   "outputs": [],
   "source": [
    "x=scrapwebsite(\"https://www.theonion.com/\")\n",
    "\n",
    "df= pd.DataFrame(x)"
   ]
  },
  {
   "cell_type": "code",
   "execution_count": 8,
   "metadata": {},
   "outputs": [],
   "source": [
    "df= pd.DataFrame(x)\n",
    "df[\"satire\"]=1\n"
   ]
  },
  {
   "cell_type": "code",
   "execution_count": 9,
   "metadata": {},
   "outputs": [],
   "source": [
    "df\n",
    "site = newspaper.build('https://babylonbee.com/')\n",
    "list1=[]\n",
    "for article in site.articles :\n",
    "    article.download()\n",
    "    article.parse()\n",
    "    article.nlp()\n",
    "    art=article.text\n",
    "    auth=article.authors\n",
    "    date=article.publish_date\n",
    "    summary=article.summary\n",
    "    title=article.title\n",
    "    dec={\"auth\": auth,\"date\" : date,\"summary\" : summary,\"title\": title,\"art\" : art}\n",
    "    list1.append(dec)\n"
   ]
  },
  {
   "cell_type": "code",
   "execution_count": 10,
   "metadata": {},
   "outputs": [
    {
     "data": {
      "text/html": [
       "<div>\n",
       "<style scoped>\n",
       "    .dataframe tbody tr th:only-of-type {\n",
       "        vertical-align: middle;\n",
       "    }\n",
       "\n",
       "    .dataframe tbody tr th {\n",
       "        vertical-align: top;\n",
       "    }\n",
       "\n",
       "    .dataframe thead th {\n",
       "        text-align: right;\n",
       "    }\n",
       "</style>\n",
       "<table border=\"1\" class=\"dataframe\">\n",
       "  <thead>\n",
       "    <tr style=\"text-align: right;\">\n",
       "      <th></th>\n",
       "      <th>auth</th>\n",
       "      <th>date</th>\n",
       "      <th>summary</th>\n",
       "      <th>title</th>\n",
       "      <th>art</th>\n",
       "      <th>satire</th>\n",
       "    </tr>\n",
       "  </thead>\n",
       "  <tbody>\n",
       "    <tr>\n",
       "      <td>0</td>\n",
       "      <td>[]</td>\n",
       "      <td>None</td>\n",
       "      <td>STANFORD, CA—In response to the ongoing corona...</td>\n",
       "      <td>Top U.S. Health Experts: ‘Hold On To Your Fuck...</td>\n",
       "      <td>STANFORD, CA—In response to the ongoing corona...</td>\n",
       "      <td>1</td>\n",
       "    </tr>\n",
       "    <tr>\n",
       "      <td>1</td>\n",
       "      <td>[]</td>\n",
       "      <td>None</td>\n",
       "      <td>Subscribe To Our NewsletterNow you can get the...</td>\n",
       "      <td>James Harden Pledges 10 Million Dollar Bills T...</td>\n",
       "      <td>Subscribe To Our Newsletter\\n\\nNow you can get...</td>\n",
       "      <td>1</td>\n",
       "    </tr>\n",
       "    <tr>\n",
       "      <td>2</td>\n",
       "      <td>[]</td>\n",
       "      <td>None</td>\n",
       "      <td>The vegetable packaging company Green Giant an...</td>\n",
       "      <td>Green Giant Takes A Stand Against Gun Violence</td>\n",
       "      <td>The vegetable packaging company Green Giant an...</td>\n",
       "      <td>1</td>\n",
       "    </tr>\n",
       "    <tr>\n",
       "      <td>3</td>\n",
       "      <td>[]</td>\n",
       "      <td>None</td>\n",
       "      <td>On the heels of the World Health Organization ...</td>\n",
       "      <td>Dow Jones Drops 20% As Pandemic Fears Grow</td>\n",
       "      <td>On the heels of the World Health Organization ...</td>\n",
       "      <td>1</td>\n",
       "    </tr>\n",
       "    <tr>\n",
       "      <td>4</td>\n",
       "      <td>[]</td>\n",
       "      <td>None</td>\n",
       "      <td>RICHFIELD, MN—Saying it would be a really huge...</td>\n",
       "      <td>Best Buy CEO Humbly Asks If Everyone Can Go Ou...</td>\n",
       "      <td>RICHFIELD, MN—Saying it would be a really huge...</td>\n",
       "      <td>1</td>\n",
       "    </tr>\n",
       "    <tr>\n",
       "      <td>5</td>\n",
       "      <td>[]</td>\n",
       "      <td>None</td>\n",
       "      <td>Subscribe To Our NewsletterNow you can get the...</td>\n",
       "      <td>News - America's Finest News Source</td>\n",
       "      <td>Subscribe To Our Newsletter\\n\\nNow you can get...</td>\n",
       "      <td>1</td>\n",
       "    </tr>\n",
       "    <tr>\n",
       "      <td>6</td>\n",
       "      <td>[]</td>\n",
       "      <td>None</td>\n",
       "      <td>A secret team of highly-trained, unstoppable s...</td>\n",
       "      <td>Smart, Qualified People Behind The Scenes Keep...</td>\n",
       "      <td>A secret team of highly-trained, unstoppable s...</td>\n",
       "      <td>1</td>\n",
       "    </tr>\n",
       "    <tr>\n",
       "      <td>7</td>\n",
       "      <td>[]</td>\n",
       "      <td>None</td>\n",
       "      <td>LAS VEGAS—In an effort to rehabilitate their i...</td>\n",
       "      <td>BP Executives Combat Negative Perceptions Of F...</td>\n",
       "      <td>LAS VEGAS—In an effort to rehabilitate their i...</td>\n",
       "      <td>1</td>\n",
       "    </tr>\n",
       "    <tr>\n",
       "      <td>8</td>\n",
       "      <td>[]</td>\n",
       "      <td>None</td>\n",
       "      <td>Subscribe To Our NewsletterNow you can get the...</td>\n",
       "      <td>Italy Travel Ban Gives Rise To Underground Net...</td>\n",
       "      <td>Subscribe To Our Newsletter\\n\\nNow you can get...</td>\n",
       "      <td>1</td>\n",
       "    </tr>\n",
       "    <tr>\n",
       "      <td>9</td>\n",
       "      <td>[]</td>\n",
       "      <td>None</td>\n",
       "      <td>Subscribe To Our NewsletterNow you can get the...</td>\n",
       "      <td>Coworkers At Bathroom Sink Locked In Tense Sta...</td>\n",
       "      <td>Subscribe To Our Newsletter\\n\\nNow you can get...</td>\n",
       "      <td>1</td>\n",
       "    </tr>\n",
       "    <tr>\n",
       "      <td>10</td>\n",
       "      <td>[]</td>\n",
       "      <td>None</td>\n",
       "      <td>Subscribe To Our NewsletterNow you can get the...</td>\n",
       "      <td>Harvey Weinstein Placed Under Intensive Suicid...</td>\n",
       "      <td>Subscribe To Our Newsletter\\n\\nNow you can get...</td>\n",
       "      <td>1</td>\n",
       "    </tr>\n",
       "    <tr>\n",
       "      <td>11</td>\n",
       "      <td>[]</td>\n",
       "      <td>None</td>\n",
       "      <td>Subscribe To Our NewsletterNow you can get the...</td>\n",
       "      <td>‘You A Pumpkin-Headed Bitch’ Announces Bus Tee...</td>\n",
       "      <td>Subscribe To Our Newsletter\\n\\nNow you can get...</td>\n",
       "      <td>1</td>\n",
       "    </tr>\n",
       "    <tr>\n",
       "      <td>12</td>\n",
       "      <td>[]</td>\n",
       "      <td>None</td>\n",
       "      <td>Bob Iger confirmed that Song Of The South, a 1...</td>\n",
       "      <td>Racist ‘Song Of The South’ Will Not Be Added T...</td>\n",
       "      <td>Bob Iger confirmed that Song Of The South, a 1...</td>\n",
       "      <td>1</td>\n",
       "    </tr>\n",
       "    <tr>\n",
       "      <td>13</td>\n",
       "      <td>[]</td>\n",
       "      <td>None</td>\n",
       "      <td>Subscribe To Our NewsletterNow you can get the...</td>\n",
       "      <td>Federal Reserve Takes Drastic Action By Pumpin...</td>\n",
       "      <td>Subscribe To Our Newsletter\\n\\nNow you can get...</td>\n",
       "      <td>1</td>\n",
       "    </tr>\n",
       "  </tbody>\n",
       "</table>\n",
       "</div>"
      ],
      "text/plain": [
       "   auth  date                                            summary  \\\n",
       "0    []  None  STANFORD, CA—In response to the ongoing corona...   \n",
       "1    []  None  Subscribe To Our NewsletterNow you can get the...   \n",
       "2    []  None  The vegetable packaging company Green Giant an...   \n",
       "3    []  None  On the heels of the World Health Organization ...   \n",
       "4    []  None  RICHFIELD, MN—Saying it would be a really huge...   \n",
       "5    []  None  Subscribe To Our NewsletterNow you can get the...   \n",
       "6    []  None  A secret team of highly-trained, unstoppable s...   \n",
       "7    []  None  LAS VEGAS—In an effort to rehabilitate their i...   \n",
       "8    []  None  Subscribe To Our NewsletterNow you can get the...   \n",
       "9    []  None  Subscribe To Our NewsletterNow you can get the...   \n",
       "10   []  None  Subscribe To Our NewsletterNow you can get the...   \n",
       "11   []  None  Subscribe To Our NewsletterNow you can get the...   \n",
       "12   []  None  Bob Iger confirmed that Song Of The South, a 1...   \n",
       "13   []  None  Subscribe To Our NewsletterNow you can get the...   \n",
       "\n",
       "                                                title  \\\n",
       "0   Top U.S. Health Experts: ‘Hold On To Your Fuck...   \n",
       "1   James Harden Pledges 10 Million Dollar Bills T...   \n",
       "2      Green Giant Takes A Stand Against Gun Violence   \n",
       "3          Dow Jones Drops 20% As Pandemic Fears Grow   \n",
       "4   Best Buy CEO Humbly Asks If Everyone Can Go Ou...   \n",
       "5                 News - America's Finest News Source   \n",
       "6   Smart, Qualified People Behind The Scenes Keep...   \n",
       "7   BP Executives Combat Negative Perceptions Of F...   \n",
       "8   Italy Travel Ban Gives Rise To Underground Net...   \n",
       "9   Coworkers At Bathroom Sink Locked In Tense Sta...   \n",
       "10  Harvey Weinstein Placed Under Intensive Suicid...   \n",
       "11  ‘You A Pumpkin-Headed Bitch’ Announces Bus Tee...   \n",
       "12  Racist ‘Song Of The South’ Will Not Be Added T...   \n",
       "13  Federal Reserve Takes Drastic Action By Pumpin...   \n",
       "\n",
       "                                                  art  satire  \n",
       "0   STANFORD, CA—In response to the ongoing corona...       1  \n",
       "1   Subscribe To Our Newsletter\\n\\nNow you can get...       1  \n",
       "2   The vegetable packaging company Green Giant an...       1  \n",
       "3   On the heels of the World Health Organization ...       1  \n",
       "4   RICHFIELD, MN—Saying it would be a really huge...       1  \n",
       "5   Subscribe To Our Newsletter\\n\\nNow you can get...       1  \n",
       "6   A secret team of highly-trained, unstoppable s...       1  \n",
       "7   LAS VEGAS—In an effort to rehabilitate their i...       1  \n",
       "8   Subscribe To Our Newsletter\\n\\nNow you can get...       1  \n",
       "9   Subscribe To Our Newsletter\\n\\nNow you can get...       1  \n",
       "10  Subscribe To Our Newsletter\\n\\nNow you can get...       1  \n",
       "11  Subscribe To Our Newsletter\\n\\nNow you can get...       1  \n",
       "12  Bob Iger confirmed that Song Of The South, a 1...       1  \n",
       "13  Subscribe To Our Newsletter\\n\\nNow you can get...       1  "
      ]
     },
     "execution_count": 10,
     "metadata": {},
     "output_type": "execute_result"
    }
   ],
   "source": [
    "df\n"
   ]
  },
  {
   "cell_type": "code",
   "execution_count": 5,
   "metadata": {},
   "outputs": [],
   "source": [
    "#BeautifulSoup scraper for the onion websites\n",
    "from bs4 import BeautifulSoup\n",
    "\n",
    "def testgeturl ():\n",
    "    url_list=[]\n",
    "#     page = urllib.request.urlopen(\"https://www.theonion.com/\")\n",
    "    try:\n",
    "        page = urllib.request.urlopen(\"https://www.theonion.com/\")\n",
    "    except:\n",
    "        print(\"An error occured.\")\n",
    "    soup = BeautifulSoup(page, 'html.parser')\n",
    "    sections=soup.find('div',class_='js_curation-block-list').find_all ('section')\n",
    "    for x in sections :\n",
    "        for i in x.find_all('article'):\n",
    "            url_list.append(i.find('a').get('href'))\n",
    "    return(url_list)\n",
    "    "
   ]
  },
  {
   "cell_type": "code",
   "execution_count": 6,
   "metadata": {},
   "outputs": [
    {
     "name": "stdout",
     "output_type": "stream",
     "text": [
      "An error occured.\n"
     ]
    },
    {
     "ename": "UnboundLocalError",
     "evalue": "local variable 'page' referenced before assignment",
     "output_type": "error",
     "traceback": [
      "\u001b[1;31m---------------------------------------------------------------------------\u001b[0m",
      "\u001b[1;31mUnboundLocalError\u001b[0m                         Traceback (most recent call last)",
      "\u001b[1;32m<ipython-input-6-358a292ca32a>\u001b[0m in \u001b[0;36m<module>\u001b[1;34m\u001b[0m\n\u001b[1;32m----> 1\u001b[1;33m \u001b[0my\u001b[0m\u001b[1;33m=\u001b[0m\u001b[0mtestgeturl\u001b[0m\u001b[1;33m(\u001b[0m\u001b[1;33m)\u001b[0m\u001b[1;33m\u001b[0m\u001b[1;33m\u001b[0m\u001b[0m\n\u001b[0m\u001b[0;32m      2\u001b[0m \u001b[0my\u001b[0m\u001b[1;33m\u001b[0m\u001b[1;33m\u001b[0m\u001b[0m\n",
      "\u001b[1;32m<ipython-input-5-a45e59856e45>\u001b[0m in \u001b[0;36mtestgeturl\u001b[1;34m()\u001b[0m\n\u001b[0;32m      9\u001b[0m     \u001b[1;32mexcept\u001b[0m\u001b[1;33m:\u001b[0m\u001b[1;33m\u001b[0m\u001b[1;33m\u001b[0m\u001b[0m\n\u001b[0;32m     10\u001b[0m         \u001b[0mprint\u001b[0m\u001b[1;33m(\u001b[0m\u001b[1;34m\"An error occured.\"\u001b[0m\u001b[1;33m)\u001b[0m\u001b[1;33m\u001b[0m\u001b[1;33m\u001b[0m\u001b[0m\n\u001b[1;32m---> 11\u001b[1;33m     \u001b[0msoup\u001b[0m \u001b[1;33m=\u001b[0m \u001b[0mBeautifulSoup\u001b[0m\u001b[1;33m(\u001b[0m\u001b[0mpage\u001b[0m\u001b[1;33m,\u001b[0m \u001b[1;34m'html.parser'\u001b[0m\u001b[1;33m)\u001b[0m\u001b[1;33m\u001b[0m\u001b[1;33m\u001b[0m\u001b[0m\n\u001b[0m\u001b[0;32m     12\u001b[0m     \u001b[0msections\u001b[0m\u001b[1;33m=\u001b[0m\u001b[0msoup\u001b[0m\u001b[1;33m.\u001b[0m\u001b[0mfind\u001b[0m\u001b[1;33m(\u001b[0m\u001b[1;34m'div'\u001b[0m\u001b[1;33m,\u001b[0m\u001b[0mclass_\u001b[0m\u001b[1;33m=\u001b[0m\u001b[1;34m'js_curation-block-list'\u001b[0m\u001b[1;33m)\u001b[0m\u001b[1;33m.\u001b[0m\u001b[0mfind_all\u001b[0m \u001b[1;33m(\u001b[0m\u001b[1;34m'section'\u001b[0m\u001b[1;33m)\u001b[0m\u001b[1;33m\u001b[0m\u001b[1;33m\u001b[0m\u001b[0m\n\u001b[0;32m     13\u001b[0m     \u001b[1;32mfor\u001b[0m \u001b[0mx\u001b[0m \u001b[1;32min\u001b[0m \u001b[0msections\u001b[0m \u001b[1;33m:\u001b[0m\u001b[1;33m\u001b[0m\u001b[1;33m\u001b[0m\u001b[0m\n",
      "\u001b[1;31mUnboundLocalError\u001b[0m: local variable 'page' referenced before assignment"
     ]
    }
   ],
   "source": [
    "y=testgeturl()\n",
    "y"
   ]
  },
  {
   "cell_type": "code",
   "execution_count": 7,
   "metadata": {},
   "outputs": [],
   "source": [
    "#just get the article and the the title from onion\n",
    "def getarticlefromurl(url):\n",
    "    try:\n",
    "        page = urllib.request.urlopen(url)\n",
    "    except:\n",
    "        print(\"An error occured.\")\n",
    "    soup = BeautifulSoup(page, 'html.parser')\n",
    "    art=soup.find ('div',class_=\"js_post-content r43lxo-0 gPaOCA\").find('p').get_text()\n",
    "    print(type(art))\n",
    "    title=\"\"\n",
    "    return(art,title)\n",
    "    \n",
    "    \n"
   ]
  },
  {
   "cell_type": "code",
   "execution_count": 8,
   "metadata": {},
   "outputs": [
    {
     "name": "stdout",
     "output_type": "stream",
     "text": [
      "An error occured.\n"
     ]
    },
    {
     "ename": "UnboundLocalError",
     "evalue": "local variable 'page' referenced before assignment",
     "output_type": "error",
     "traceback": [
      "\u001b[1;31m---------------------------------------------------------------------------\u001b[0m",
      "\u001b[1;31mUnboundLocalError\u001b[0m                         Traceback (most recent call last)",
      "\u001b[1;32m<ipython-input-8-4d9ee27855c1>\u001b[0m in \u001b[0;36m<module>\u001b[1;34m\u001b[0m\n\u001b[1;32m----> 1\u001b[1;33m \u001b[0my\u001b[0m\u001b[1;33m=\u001b[0m\u001b[0mgetarticlefromurl\u001b[0m\u001b[1;33m(\u001b[0m\u001b[1;34m\"https://local.theonion.com/man-talking-big-game-about-having-shroom-hookup-folds-a-1842156433\"\u001b[0m\u001b[1;33m)\u001b[0m\u001b[1;33m\u001b[0m\u001b[1;33m\u001b[0m\u001b[0m\n\u001b[0m\u001b[0;32m      2\u001b[0m \u001b[1;33m\u001b[0m\u001b[0m\n",
      "\u001b[1;32m<ipython-input-7-00538e846f98>\u001b[0m in \u001b[0;36mgetarticlefromurl\u001b[1;34m(url)\u001b[0m\n\u001b[0;32m      5\u001b[0m     \u001b[1;32mexcept\u001b[0m\u001b[1;33m:\u001b[0m\u001b[1;33m\u001b[0m\u001b[1;33m\u001b[0m\u001b[0m\n\u001b[0;32m      6\u001b[0m         \u001b[0mprint\u001b[0m\u001b[1;33m(\u001b[0m\u001b[1;34m\"An error occured.\"\u001b[0m\u001b[1;33m)\u001b[0m\u001b[1;33m\u001b[0m\u001b[1;33m\u001b[0m\u001b[0m\n\u001b[1;32m----> 7\u001b[1;33m     \u001b[0msoup\u001b[0m \u001b[1;33m=\u001b[0m \u001b[0mBeautifulSoup\u001b[0m\u001b[1;33m(\u001b[0m\u001b[0mpage\u001b[0m\u001b[1;33m,\u001b[0m \u001b[1;34m'html.parser'\u001b[0m\u001b[1;33m)\u001b[0m\u001b[1;33m\u001b[0m\u001b[1;33m\u001b[0m\u001b[0m\n\u001b[0m\u001b[0;32m      8\u001b[0m     \u001b[0mart\u001b[0m\u001b[1;33m=\u001b[0m\u001b[0msoup\u001b[0m\u001b[1;33m.\u001b[0m\u001b[0mfind\u001b[0m \u001b[1;33m(\u001b[0m\u001b[1;34m'div'\u001b[0m\u001b[1;33m,\u001b[0m\u001b[0mclass_\u001b[0m\u001b[1;33m=\u001b[0m\u001b[1;34m\"js_post-content r43lxo-0 gPaOCA\"\u001b[0m\u001b[1;33m)\u001b[0m\u001b[1;33m.\u001b[0m\u001b[0mfind\u001b[0m\u001b[1;33m(\u001b[0m\u001b[1;34m'p'\u001b[0m\u001b[1;33m)\u001b[0m\u001b[1;33m.\u001b[0m\u001b[0mget_text\u001b[0m\u001b[1;33m(\u001b[0m\u001b[1;33m)\u001b[0m\u001b[1;33m\u001b[0m\u001b[1;33m\u001b[0m\u001b[0m\n\u001b[0;32m      9\u001b[0m     \u001b[0mprint\u001b[0m\u001b[1;33m(\u001b[0m\u001b[0mtype\u001b[0m\u001b[1;33m(\u001b[0m\u001b[0mart\u001b[0m\u001b[1;33m)\u001b[0m\u001b[1;33m)\u001b[0m\u001b[1;33m\u001b[0m\u001b[1;33m\u001b[0m\u001b[0m\n",
      "\u001b[1;31mUnboundLocalError\u001b[0m: local variable 'page' referenced before assignment"
     ]
    }
   ],
   "source": [
    " y=getarticlefromurl(\"https://local.theonion.com/man-talking-big-game-about-having-shroom-hookup-folds-a-1842156433\")\n",
    "    "
   ]
  },
  {
   "cell_type": "code",
   "execution_count": 101,
   "metadata": {},
   "outputs": [
    {
     "data": {
      "text/plain": [
       "['https://www.theonion.com/best-methods-for-staying-safe-from-coronavirus-1842272448',\n",
       " 'https://www.theonion.com/son-of-a-bitch-mouse-solves-maze-researchers-spent-mont-1842274622',\n",
       " 'https://www.theonion.com/wells-fargo-board-members-resign-following-congressiona-1842248665',\n",
       " 'https://www.theonion.com/redeeming-qualities-1842237492',\n",
       " 'https://politics.theonion.com/tulsi-gabbard-named-democratic-nominee-after-discovery-1842268489',\n",
       " 'https://politics.theonion.com/biden-extends-olive-branch-to-biden-supporters-1842269384',\n",
       " 'https://www.theonion.com/c/american-voices',\n",
       " 'https://politics.theonion.com/c/news-in-brief',\n",
       " 'https://www.theonion.com/c/news-in-brief',\n",
       " 'https://local.theonion.com/girlfriend-making-playlist-of-bands-you-might-like-to-a-1842268055',\n",
       " 'https://www.theonion.com/lucky-cruise-passengers-get-bunch-of-extra-days-on-ship-1842245369',\n",
       " 'https://www.theonion.com/dole-introduces-new-voice-activated-grapefruit-1842265202',\n",
       " 'https://politics.theonion.com/biden-defends-past-inappropriate-touching-of-women-as-s-1842129609',\n",
       " 'https://politics.theonion.com/ruth-bader-ginsburg-flirting-with-67-year-old-intern-ag-1842129352',\n",
       " 'https://politics.theonion.com/the-onion-s-guide-to-the-2020-democratic-candidates-1841331219',\n",
       " 'https://politics.theonion.com/vindictive-amy-klobuchar-elected-mayor-of-south-bend-i-1842125399',\n",
       " 'https://politics.theonion.com/key-priorities-for-trump-s-reelection-campaign-1842156367',\n",
       " 'https://www.theonion.com/son-of-a-bitch-mouse-solves-maze-researchers-spent-mont-1842274622',\n",
       " 'https://www.theonion.com/is-bernie-sanders-too-old-to-be-the-next-james-bond-1842247172',\n",
       " 'https://www.theonion.com/dow-rallies-after-it-turns-out-trader-who-jumped-out-wi-1842219851',\n",
       " 'https://local.theonion.com/woman-s-subconscious-not-sure-how-much-more-clearly-it-1842215067',\n",
       " 'https://local.theonion.com/man-who-s-really-excited-to-one-day-have-children-must-1842149499',\n",
       " 'https://local.theonion.com/restaurant-expensive-enough-that-menu-just-single-sheet-1842127666',\n",
       " 'https://local.theonion.com/man-talking-big-game-about-having-shroom-hookup-folds-a-1842156433',\n",
       " 'https://local.theonion.com/elderly-woman-wheeling-oxygen-tank-takes-over-bus-prio-1842085813',\n",
       " 'https://ogn.theonion.com/greatest-video-game-weapons-of-all-time-1841940404',\n",
       " 'https://ogn.theonion.com/pathetic-this-gamer-who-got-shot-3-times-went-to-a-hos-1841885246',\n",
       " 'https://ogn.theonion.com/gaming-is-finally-growing-up-this-xbox-one-is-wearing-1841635256',\n",
       " 'https://ogn.theonion.com/disappointing-the-last-of-us-2-has-received-an-m-rat-1841829909',\n",
       " None,\n",
       " 'https://www.theonion.com/how-to-interact-with-little-kids-1841767425',\n",
       " 'https://politics.theonion.com/highlights-of-the-nevada-democratic-debate-1841815601',\n",
       " 'https://www.theonion.com/how-to-handle-texting-anxiety-1841812552',\n",
       " 'https://entertainment.theonion.com/5-things-to-know-about-love-is-blind-1842274258',\n",
       " 'https://entertainment.theonion.com/your-horoscopes-week-of-march-10-2020-1842216361',\n",
       " 'https://entertainment.theonion.com/73-year-old-billie-eilish-breaks-silence-to-discuss-rav-1842161956',\n",
       " 'https://entertainment.theonion.com/the-onion-reviews-onward-1842150686',\n",
       " 'https://sports.theonion.com/olympic-committee-announces-tokyo-games-will-still-go-o-1841981577',\n",
       " 'https://sports.theonion.com/nfl-draft-prospect-sets-combine-record-by-scrubbing-ent-1841980356',\n",
       " 'https://sports.theonion.com/professional-rodeo-cowboys-association-horrified-to-lea-1841961295',\n",
       " 'https://sports.theonion.com/timberwolves-fire-clerk-on-accounts-receivable-team-in-1841952574',\n",
       " 'https://www.theonion.com/putin-backs-constitutional-amendment-that-could-keep-hi-1842273136',\n",
       " 'https://www.theonion.com/wells-fargo-board-members-resign-following-congressiona-1842248665',\n",
       " 'https://www.theonion.com/twitter-adds-manipulated-media-label-to-video-retweet-1842244662',\n",
       " 'https://www.theonion.com/redeeming-qualities-1842237492']"
      ]
     },
     "execution_count": 101,
     "metadata": {},
     "output_type": "execute_result"
    }
   ],
   "source": [
    "y\n",
    "\n"
   ]
  },
  {
   "cell_type": "code",
   "execution_count": 107,
   "metadata": {},
   "outputs": [
    {
     "name": "stdout",
     "output_type": "stream",
     "text": [
      "page without content\n",
      "<class 'str'>\n",
      "<class 'str'>\n",
      "page without content\n",
      "<class 'str'>\n",
      "<class 'str'>\n",
      "page without content\n",
      "page without content\n",
      "page without content\n",
      "<class 'str'>\n",
      "<class 'str'>\n",
      "page without content\n",
      "<class 'str'>\n",
      "An error occured.\n",
      "page without content\n",
      "<class 'str'>\n",
      "<class 'str'>\n",
      "<class 'str'>\n",
      "<class 'str'>\n",
      "<class 'str'>\n",
      "<class 'str'>\n",
      "<class 'str'>\n",
      "<class 'str'>\n",
      "page without content\n",
      "<class 'str'>\n",
      "<class 'str'>\n",
      "<class 'str'>\n",
      "<class 'str'>\n",
      "<class 'str'>\n",
      "<class 'str'>\n",
      "page without content\n",
      "page without content\n",
      "<class 'str'>\n",
      "page without content\n",
      "<class 'str'>\n",
      "<class 'str'>\n",
      "page without content\n",
      "<class 'str'>\n",
      "<class 'str'>\n",
      "page without content\n",
      "<class 'str'>\n",
      "<class 'str'>\n",
      "<class 'str'>\n",
      "<class 'str'>\n",
      "page without content\n"
     ]
    }
   ],
   "source": [
    "df=[]\n",
    "for url in y :\n",
    "    if (url!=None) :\n",
    "        try :\n",
    "            df.append(getarticlefromurl(url))\n",
    "        except:\n",
    "            print(\"page without content\")\n",
    "    "
   ]
  },
  {
   "cell_type": "code",
   "execution_count": 110,
   "metadata": {},
   "outputs": [],
   "source": [
    "#testing the fonction\n",
    "# getarticlefromurl(\"https://www.theonion.com/best-methods-for-staying-safe-from-coronavirus-1842272448\")"
   ]
  },
  {
   "cell_type": "code",
   "execution_count": 111,
   "metadata": {},
   "outputs": [
    {
     "data": {
      "text/plain": [
       "[('Scientists are calling it perhaps the biggest setback ever in the field of neuroscience. Hear why researchers believe one mouse, who’s a real little bastard, may be to blame.',\n",
       "  ''),\n",
       " ('Two Wells Fargo board members have resigned after a House committee report found the company failed to properly address previous consumer abuse scandals that include falsifying records, forging signatures, opening fraudulent accounts, charging fees on those fraudulent accounts, and mistakenly foreclosing on homes. What do you think?',\n",
       "  ''),\n",
       " ('WASHINGTON—Beating out her rivals with the help of a little-known technicality, Rep. Tulsi Gabbard (D-HI) was named the Democratic Party’s nominee for president Wednesday after the discovery of an obscure rule that grants the nomination to whoever wins 0.7% of the vote in Missouri. “We weren’t expecting this, but after double-checking the party’s rules, it appears we are obliged to select Tulsi Gabbard as our candidate in 2020,” said Democratic National Committee chair Tom Perez, shrugging his shoulders and pointing to a section of a crumbling, yellowed document that contains the esoteric bylaw. “I know a lot of Democrats were probably wondering why she was still in the race. But last night, while cross-referencing an old rule book in preparation for the upcoming debate, we came across this forgotten section of our charter, and, well, it all checks out. I admit it was a pretty cunning strategy on her part. With 100% of precincts now reporting, it appears the congresswoman received exactly 0.7% of votes in the Missouri primary yesterday. And so the time has come for us to put aside our differences and unite behind the next president of the United States, Tulsi Gabbard.” Perez went on to apologize on behalf of his entire party for not awarding the Democratic nomination for president to Sen. Furnifold McLendel Simmons (D-NC) in 1920.',\n",
       "  ''),\n",
       " ('PHILADELPHIA—In a largely measured speech calling for party unity after a string of primary victories, former Vice President Joe Biden took to the stage Tuesday night to extend an olive branch to Biden supporters. “I appreciate the enthusiasm and energy of Joe Biden’s voters, and I want any of his supporters who feel lost or counted out to know that there is a place for them with my campaign,” said Biden, stressing that while he and the vice president did not see eye to eye on every issue, they both shared values that represented a bold new vision for the American people. “Of course, I might have occasionally clashed with Joe Biden in the more strained moments of recent debates, but we also worked together for many years in the Senate. At the end of the day, whether you’re a Biden supporter or a Biden supporter, we have the same goal, which is to get Trump out of the White House and replace him with Joe Biden.” At press time, pundits launched into fevered speculations that the candidate’s speech could contain hints Joe Biden was mulling the choice to appoint Joe Biden as vice president.',\n",
       "  ''),\n",
       " ('SEATTLE—In an unfortunately significant gesture of romantic affection, your current serious girlfriend has taken it upon herself to make you a playlist consisting of bands you might like to associate with her forever. “I’m trying to get a good mix of genres, sounds, and moods in here, all by common musical groups you will be forced to forever associate with me and what I’m going to say to you in the park next October,” said your girlfriend while browsing Spotify to cobble together songs by performers ranging from The Smiths to Tame Impala to Carly Rae Jepsen, none of whom you’ll be able to bear the sound of by this time next year. “There are a few songs in here that I just know you’re going to love, as they’re inextricably connected to memories of our all-too-brief time together. Some of them are as new as our love, but good enough that they’ll still be on the radio to haunt you years from now, and some are classic hits that I’ll ruin forever by associating them with me in your mind. I really put a lot of myself into this project.” Your girlfriend has also taken steps to ensure that you will not be able to enjoy the taste of shakshuka, currently your favorite thing to cook for her, for the rest of your natural life.',\n",
       "  ''),\n",
       " ('OAKLAND, CA—Marveling at the wide range of luxurious experiences available across its many award-winning spas and restaurants, sources expressed envy this week for the 3,500 fortunate people aboard the Grand Princess who got to spend a bunch of extra days on the ship during their coronavirus quarantine. “Oh man, imagine being locked down for almost a whole extra week—free of charge—on a sweet boat with a Vegas-style casino, a mall, mini golf, and hot tubs,” said area woman Sarah Collins, who admitted she felt jealous of the passengers exposed to the potentially fatal illness as she scrolled through the grand-class cruise liner’s website, eyeing the original musical productions and imagining herself relaxing with a massage, manicure, or facial. “Are you kidding me? They’re living the life out there. They can have an authentic culinary experience at Sabatini’s Italian Trattoria, or hit the all-you-can-eat buffet for as much seafood as they want. If I were them, I’d be thanking my lucky stars for every day they refused to let me disembark.” Sources added that all the high fevers and shortness of breath were probably the result of having a few too many tiki drinks and a little too much fun dancing in the piano bar.',\n",
       "  ''),\n",
       " ('DETROIT—Opening up about the lifelong struggle that has been a source of embarrassment and frustration, Democratic presidential candidate Joe Biden defended Thursday his record of inappropriately touching women as a symptom of his lifelong struggle with stuttering hands. “Since my childhood, I’ve been burdened with this debilitating problem—anytime I wrap my hands around a woman’s waist or give them a shoulder rub, it’s because of a nervous medical tick,” said Biden, choking up while recounting how much his uncontrollable caressing of women’s backs and touching of their faces have hurt him over the years. “I was often too ashamed in the past to speak about it, but I know there’s some teenager out there grabbing a classmate’s ass who needs to know they are not alone. I’ve dealt with the misfortune of seeing my hands reach out and pull a woman uncomfortably close to me and the embarrassment of them mocking me and saying ‘Stop doing that.’ I’ve worked to get it under control, and I want my supporters to be confident that I will only occasionally be touching women over the course of the presidential campaign.” At press time, Biden was attributing his support of the Iraq war and opposition to school busing as the result of a challenging brain stutter.',\n",
       "  ''),\n",
       " ('Joe Biden', ''),\n",
       " ('SOUTH BEND, IN—Triumphantly celebrating victory with an adoring crowd of supporters, vindictive former Democratic presidential candidate Amy Klobuchar was elected mayor of South Bend, IN, sources confirmed Thursday. “South Bend has taken a step into a bright new day by finally electing a leader it deserves, and I’m here to help heal this broken city,” said the newly elected Mayor Klobuchar, relishing the crowd’s applause as confetti rained down over her shoulders. “When touring across America, I saw no city that had been more mistreated and dismissed by its local officials than South Bend. I promise you, I will work tirelessly to overturn the mistakes of the previous administration. We’ll be destroying the river walk and the smart sewer system and ending the Commuters Trust—all wastes of taxpayer money. You deserve a mayor who doesn’t abandon you to fly to other states that he has no chance of winning, or take time away from focusing on your welfare to criticize the intelligence of dedicated, experienced senators. Congratulations, South Bend, your eight-year nightmare is finally over.” At press time, Klobuchar’s administration had convicted 80% of the city’s black population.',\n",
       "  ''),\n",
       " ('President Donald Trump will receive the Republican Party’s nomination for president, and his reelection campaign against his eventual Democratic challenger is already well underway. The Onion takes a look at the key priorities for Trump going into his reelection campaign.',\n",
       "  ''),\n",
       " ('Scientists are calling it perhaps the biggest setback ever in the field of neuroscience. Hear why researchers believe one mouse, who’s a real little bastard, may be to blame.',\n",
       "  ''),\n",
       " ('A new poll shows the majority of Americans believe the senator’s age could impede him from carrying out the duties of MI6’s most daring spy.',\n",
       "  ''),\n",
       " ('Good news on Wall Street today as the Dow recovers following a big scare. Hear how markets surged after it was revealed the stock trader who jumped out of a high rise window only did it because his wife left him.',\n",
       "  ''),\n",
       " ('STANLEY, NM—Scrambling to find a way to be even more blunt, the subconscious of local woman Jessika Toler was reportedly unsure Monday how much more clearly it can communicate that her teeth are going to fall out soon. “I mean, I keep showing her different versions of the same dream where all her teeth fall out, but instead of taking that as an explicit sign she’s about to need dentures, she’s making all these weird, esoteric interpretations,” said Toler’s psyche, noting the woman’s dream journal was filled with page after page of illogical attempts to tie the nightmare to stressors in her waking life, like an upcoming work presentation and her father’s recent health diagnosis. “Some nights I have them all fall out at once. Other times, they feel loose and she spits them out one by one. What else can I do? Sister. Your. Teeth. Are. Falling. Out. Your boyfriend loves you, your finances are in order, so take a hint and go to the goddamn dentist.” At press time, Toler’s panicked subconscious was deciding whether to prioritize a nightmare about her teeth falling out or warning her that she would be naked in her old high school tomorrow.',\n",
       "  ''),\n",
       " ('ROCHESTER, NY—Insisting there could simply be no other plausible explanation for his strange desire, sources confirmed Friday that local man Dave Katko, who is reportedly really excited to one day have children, must be a pedophile. “He’s been talking nonstop about how fulfilled he’ll be once he finally has kids—ugh, gross,” said Carmen Wilson, explaining that she was “incredibly creeped out” after her date shared photos of his niece and nephew on his phone. “You can tell he’s obsessed just from the look he gets in his eyes when he talks about holding his future son. He’s always going on about the pitter-patter of tiny footsteps, how he’ll love his children no matter what. What a fucking sicko. And he says he wants at least two! How disgusting.” At press time, Wilson was convinced her date was thinking about kids while having sex with her.',\n",
       "  ''),\n",
       " ('NAHANT, MA—Suggesting a complete inability to back up his bombastic rhetoric, local man Carl Stoker, who had previously talked a big game about having a shroom hookup, had immediately folded under pressure, sources reported Friday. “Carl’s been going on and on about what a sweet connection he’s got, but as soon as I started asking for any specifics whatsoever, he completely backtracks,” said prospective drug buyer Lee Urich, telling reporters that despite Stoker’s repeated assurances that he could procure magic mushrooms whenever he wanted through a close friend of his, the moment Urich expressed interest, he had immediately begun hedging about how it would be hard to get them right now. “He’s bragging about how he still has half an ounce of super potent caps in his freezer left over from tripping balls last weekend, but when I mention that I’ve actually been looking myself, he launches into this whole song and dance about how his friend’s actually out of town for a few weeks, and even after that he doesn’t want to annoy him too much by asking to buy more right away. He just completely wussed out, which is annoying because he’s the one who brought up this shit in the first place.” Urich went on to confirm that he would still probably hit up Stoker another eight or nine times in the next year to see if he could score some shrooms.',\n",
       "  ''),\n",
       " ('PHILADELPHIA—Without speaking a single word, an elderly woman carting an oxygen tank reportedly caused riders to scatter from the priority seating area of a city bus Wednesday as though she were the most feared inmate on a maximum-security prison yard. The visibly frail woman, who reportedly clutched her walker as a convict might grip a shiv carved from a toothbrush, is said to have sent the former occupant of her seat scrambling to the back of the bus with a mere glance. She was then seen lowering herself down into the seat like a tattooed gang hitman with multiple life sentences, including one for a murder committed while in prison, who had chosen to commandeer the yard’s bench press. Reports later confirmed that passengers had cleared the aisle after the bus reached a stop and the woman—who signaled what was about to happen like an inmate giving the order to stab a rival gang leader in the neck—nodded toward the exit.',\n",
       "  ''),\n",
       " ('Iconic video games are often defined by their unforgettable weapons. Whether it’s the Leviathan Axe in God of War or Cloud’s Ultima Weapon in Final Fantasy VII, there’s something uniquely satisfying about getting your hands on a game’s definitive weapon and laying waste to enemies. Here, then, are the greatest video game weapons of all time.',\n",
       "  ''),\n",
       " ('Brace yourself, OGN readers, because we have some truly pathetic news about a man who has the gall to call himself a gamer! According to police reports, Denver, CO resident and self-described gaming enthusiast Mitch Rudolph risked his life by going all the way to St. Joseph Hospital after getting shot three times instead of simply ducking behind cover for a few seconds and returning to full health.',\n",
       "  ''),\n",
       " ('Haters have always said that gaming was nothing but child’s play—an immature distraction from the more “serious” and critically accepted art forms out there in the world. But it’s time for those naysayers to bow down and accept that gaming is finally growing up, because this Xbox One is wearing a suit and tie!Yup, readers. This right here is the clearest sign yet that gaming isn’t just for kids anymore.Boy, we wish we could see the stunned looks on critics’ faces when they get a load of Microsoft’s console attired in a smart Brooks Brothers suit and silk tie, and realize everything they’ve thought about video games has been dead wrong. What’s even sweeter is that the Xbox’s leather briefcase leaves no room for the argument that novels or films are the only adult form of storytelling anymore. And is that a tasteful pocket square we see in the console’s Blu-ray drive? Well, well, well.Of course, we’d argue that we’ve already had countless moments in the 60-year history of video games that settled this argument, such as when a PlayStation 2 was spotted wearing a phone headset in a drab office cubicle or when a pair of Sega Saturns was seen at their kitchen table agonizing over prenup agreements. However, none of that matters now that this mature console and its sophisticated work ensemble have put this silly debate to rest once and for all!So listen up, gamers: next time some detractor starts disparaging your life passion as childish or shallow, you just point them in the direction of this Xbox One and its responsible, stylish business outfit. We’re pretty sure that will shut them up for good.',\n",
       "  ''),\n",
       " ('Well, this is going to turn some gamers off. Naughty Dog’s recent games have long been known for their brutal depiction of violence and thought-provoking exploration of adult themes. But according to new information on The Last of Us Part II’s official website, the ESRB has given the upcoming title an M rating solely for a scene in which Ellie meets a fast-talking dog who continually swears and smokes cigarettes.',\n",
       "  ''),\n",
       " ('test', ''),\n",
       " ('You’ll once again fall for the oldest trick in the book this week, moments after picking up a copy of the King James Bible.',\n",
       "  ''),\n",
       " ('LOS ANGELES—In a rare public appearance from the reclusive artist, Billie Eilish, 73, broke her silence Friday to discuss the ravages of fame in an interview from her hermetically sealed mansion. “The musician lifestyle is pretty rough, and it can take one hell of a toll on your body,” the septuagenarian singer and songwriter told reporters from her completely sterilized and germ-free home, as her gnarled fingers trembled while reaching for a container of glaucoma medication. “Yes, I got to be a superstar, but when you get to my age, you begin to wonder if it was worth all the pain and agony. Seems like only yesterday I was a carefree 16-year-old, but look at me now—I’m half-blind, I can barely stand, and my bones are as fragile as peanut brittle.” At press time, the 98-year-old Eilish had passed away quietly in her sleep.\\xa0',\n",
       "  ''),\n",
       " ('LAUSANNE, SWITZERLAND—In an effort to quell cancellation rumors amidst coronavirus concerns, the International Olympic Committee announced Friday the 2020 Summer Games in Tokyo would go on as planned because true athletes always challenge themselves, welcoming every obstacle they counter. “At its core, being an athlete is all about overcoming adversity, and we can’t think of anything that better embodies the Olympic spirit than making top athletes from around the world brave the threat of a deadly global pandemic in order to compete,” said IOC president Thomas Bach, who emphasized there was no feat more inspiring than Olympic athletes testing their personal limits while they push through the symptoms of a highly contagious virus as it attacks their lungs. “When the going gets tough—right when you think you’ll be counted out because an unpreventable, untreatable respiratory disease is spreading both across the planet and inside your own body—that’s when Olympians shine brightest. Perhaps this year we’ll see our athletes persevering like never before as they struggle simply to catch their next breath.” Bach went on to state that spectators should not cancel plans to purchase tickets for this year’s Summer Olympics unless they are fair-weather fans who have lost all faith in the ability of the human spirit to triumph in the face of difficulty.',\n",
       "  ''),\n",
       " ('INDIANAPOLIS—Stunning scouts as he effortlessly cleared out years’ worth of troubling posts while barely breaking a sweat, top NFL draft prospect T.J. DeLuca set a combine record Friday by scrubbing his entire social media presence in 17.64 seconds. “I’ve never seen anything like this, everything from his thoughts on women to offensive Halloween costumes were wiped out in seconds,” said Jets scout Mike Cenzo, who noted that the social media purge is one of the most essential measurements of professional potential that the NFL combine offers. “He was absolutely flying through Twitter, expunging racial slurs and pictures of him doing drugs like it was second nature to him. He probably jumped 20 draft spots when he was able to clean out all those dick pics he sent to women in the first five seconds. There is no doubt that this guy has what it takes to succeed in the NFL.” At press time, DeLuca had dropped back down the draft board after posting a mediocre eight stumbles during the domestic abuse denial run.',\n",
       "  ''),\n",
       " ('MINNEAPOLIS—Admitting that the franchise needed a complete overhaul if they wanted to compete, the Minnesota Timberwolves fired accounts receivable clerk Gary Nilson Thursday in the first big step towards turning the team around. “We want the fans to know we are serious about winning, and if we’re going to bring this team back to being a contender year after year, then it requires a total overall of the organization, which unfortunately starts with Gary,” said Timberwolves president Gersson Rosas, who thanked Nilson for his dedication but explained that accounts receivable clerk was part of the past and the team was committed to doing everything it could to build a winning culture. “We know people have been disappointed in the team’s performance, none more than us, which is why we need to clear salary space like this and bring in some big up-and-coming accounting talent. Whether it’s revamping the marketing department or even the custodial staff, this is going to be a complete franchise overhaul. If people are not carrying their weight, then they are going to lose their job.” At press time, Timberwolves GM Scott Layden had been given a $25 million extension for all his hard work.',\n",
       "  ''),\n",
       " ('Russian lawmakers have introduced a proposal that would reset Vladimir Putin’s current term limit back to zero, allowing him to serve as president for two more six-year terms. What do you think? ',\n",
       "  ''),\n",
       " ('Two Wells Fargo board members have resigned after a House committee report found the company failed to properly address previous consumer abuse scandals that include falsifying records, forging signatures, opening fraudulent accounts, charging fees on those fraudulent accounts, and mistakenly foreclosing on homes. What do you think?',\n",
       "  ''),\n",
       " ('A new Twitter policy intended to crack down on tweets containing deceptive photos, audio, and video was deployed for the first time Sunday on an edited clip of Joe Biden that was circulated by the president and his social media director. What do you think?',\n",
       "  '')]"
      ]
     },
     "execution_count": 111,
     "metadata": {},
     "output_type": "execute_result"
    }
   ],
   "source": [
    "df\n"
   ]
  },
  {
   "cell_type": "code",
   "execution_count": 10,
   "metadata": {},
   "outputs": [],
   "source": [
    "#data  without satir\n",
    "url = \"https://www.dailymail.co.uk\""
   ]
  },
  {
   "cell_type": "code",
   "execution_count": 11,
   "metadata": {},
   "outputs": [
    {
     "data": {
      "text/plain": [
       "97"
      ]
     },
     "execution_count": 11,
     "metadata": {},
     "output_type": "execute_result"
    }
   ],
   "source": [
    "import requests\n",
    "r1 = requests.get(url)\n",
    "r1.status_code\n",
    "\n",
    "coverpage = r1.content\n",
    "\n",
    "soup1 = BeautifulSoup(coverpage, 'html5lib')\n",
    "\n",
    "# News identification\n",
    "coverpage_news = soup1.find_all('h2', class_='linkro-darkred')\n",
    "len(coverpage_news)"
   ]
  },
  {
   "cell_type": "code",
   "execution_count": 12,
   "metadata": {},
   "outputs": [],
   "source": [
    "import re\n",
    "import numpy as np\n",
    "news_contents = []\n",
    "list_links = []\n",
    "list_titles = []\n",
    "nbr_of_art=20\n",
    "#change the nbr_of_art if you wanna run it on the hole website\n",
    "for n in np.arange(0,nbr_of_art):\n",
    "        \n",
    "    # Getting the link of the article\n",
    "    link = url + coverpage_news[n].find('a')['href']\n",
    "    list_links.append(link)\n",
    "    \n",
    "    # Getting the title\n",
    "    title = coverpage_news[n].find('a').get_text()\n",
    "    list_titles.append(title)\n",
    "    \n",
    "    # Reading the content (it is divided in paragraphs)\n",
    "    article = requests.get(link)\n",
    "    article_content = article.content\n",
    "    soup_article = BeautifulSoup(article_content, 'html5lib')\n",
    "    body = soup_article.find_all('p', class_='mol-para-with-font')\n",
    "    \n",
    "    # Unifying the paragraphs\n",
    "    list_paragraphs = []\n",
    "    for p in np.arange(0, len(body)):\n",
    "        paragraph = body[p].get_text()\n",
    "        list_paragraphs.append(paragraph)\n",
    "        final_article = \" \".join(list_paragraphs)\n",
    "        \n",
    "    # Removing special characters\n",
    "    final_article = re.sub(\"\\\\xa0\", \"\", final_article)\n",
    "        \n",
    "    news_contents.append(final_article)"
   ]
  },
  {
   "cell_type": "code",
   "execution_count": 13,
   "metadata": {},
   "outputs": [
    {
     "data": {
      "text/plain": [
       "\"Doubts are growing inJapan about the Tokyo Olympics, with growing opposition to holding them as scheduled and some urging officials not to risk lives by pressing ahead during the coronavirus emergency. Officials like Japanese Prime Minister Shinzo Abe and International Olympic Committee (IOC) chief Thomas Bach have repeatedly insisted preparations should continue to light the Olympic flame on July 24. But with events from the Premier League to NBA basketball scrapped, and Japanese sport also at a standstill, even US President Donald Trump has suggested putting the Olympics on hold. Japan has seen relatively few cases - with 814 testing positive and 24 dead - but some people on the streets of Tokyo voiced concern for the fans that would pour in from abroad. Koki Miura, a 27-year-old employee at an internet company, told AFP: 'To be honest, even if Japan overcomes this crisis, we wouldn't receive visitors from the world. I think we'd better not hold it.' 'We cannot sacrifice people's lives for it,' added Koki, who said the Games should be postponed - if not cancelled outright. Public opinion in Japan appears to be moving against the games, as a poll for public broadcaster NHK taken March 6-9 suggested 45% were opposed to going ahead as planned, with 40% in favour. Tokyo governor Yuriko Koike has said it is 'unthinkable' to cancel the Olympics but the decision rests with the IOC, which is planning emergency talks with international sports federations over the virus tomorrow, according to an IOC source. Thomas has stressed the IOC will follow World Health Organization recommendations regarding a possible postponement. But he has also acknowledged that the cancellation of qualifying events was already posing 'serious problems'. At the beginning of March, Bach said the IOC would show 'flexibility' regarding the qualifications for the Tokyo and encouraged 'all athletes to continue to prepare' for the Games. Masao Sugawara, a 90-year-old pensioner, told AFP: 'Personally, I think it would be safer to postpone the Olympics for a year, just as President Trump said. Look at the panic. Of course it would be disappointing, though.' Manfred Otto, 45, a half-Japanese, half-German lawyer, said he was 'worried' about the Games and stressed: 'We really need to be careful.' 'If the outbreak does not get controlled by June or July, I think we should postpone it,' said Manfred. The betting odds are increasingly shifting towards the opening ceremony not taking place on July 24, with bookmaker Paddy Power offering 4-1 against the Games opening on time. This comes as the virus - which has killed 6,400 people worldwide - shreds the international sporting calendar, with almost no elite sporting action taking place last weekend. Scrapping the Olympics would be a heartbreaking decision for Tokyo residents who rushed to buy tickets, and authorities whose preparations have won widespread praise - with the majority of venues ready well ahead of schedule. Hisaya Suzuki, 47, said he had tickets to see baseball, Japan's most popular sport. 'It's a once-in-a-lifetime opportunity, so I really wanted to take my son,' he said, but added: 'If there will be negative consequences, it may be wiser to pause it (the Games).' Masao said the magnitude of the coronavirus trumped sporting considerations: 'I am 90 years old. Except for wartime, I have never felt so worried.'\""
      ]
     },
     "execution_count": 13,
     "metadata": {},
     "output_type": "execute_result"
    }
   ],
   "source": [
    "\n",
    "final_article\n"
   ]
  },
  {
   "cell_type": "code",
   "execution_count": 19,
   "metadata": {},
   "outputs": [
    {
     "ename": "TypeError",
     "evalue": "'type' object is not iterable",
     "output_type": "error",
     "traceback": [
      "\u001b[1;31m---------------------------------------------------------------------------\u001b[0m",
      "\u001b[1;31mTypeError\u001b[0m                                 Traceback (most recent call last)",
      "\u001b[1;32m<ipython-input-19-d2528c5d9ea3>\u001b[0m in \u001b[0;36m<module>\u001b[1;34m\u001b[0m\n\u001b[0;32m      1\u001b[0m \u001b[1;32mimport\u001b[0m \u001b[0mpandas\u001b[0m \u001b[1;32mas\u001b[0m \u001b[0mpd\u001b[0m\u001b[1;33m\u001b[0m\u001b[1;33m\u001b[0m\u001b[0m\n\u001b[0;32m      2\u001b[0m df = pd.DataFrame(\n\u001b[1;32m----> 3\u001b[1;33m      {'Article Content': final_article},index=int)\n\u001b[0m",
      "\u001b[1;32m~\\.conda\\envs\\factory619\\lib\\site-packages\\pandas\\core\\frame.py\u001b[0m in \u001b[0;36m__init__\u001b[1;34m(self, data, index, columns, dtype, copy)\u001b[0m\n\u001b[0;32m    409\u001b[0m             )\n\u001b[0;32m    410\u001b[0m         \u001b[1;32melif\u001b[0m \u001b[0misinstance\u001b[0m\u001b[1;33m(\u001b[0m\u001b[0mdata\u001b[0m\u001b[1;33m,\u001b[0m \u001b[0mdict\u001b[0m\u001b[1;33m)\u001b[0m\u001b[1;33m:\u001b[0m\u001b[1;33m\u001b[0m\u001b[1;33m\u001b[0m\u001b[0m\n\u001b[1;32m--> 411\u001b[1;33m             \u001b[0mmgr\u001b[0m \u001b[1;33m=\u001b[0m \u001b[0minit_dict\u001b[0m\u001b[1;33m(\u001b[0m\u001b[0mdata\u001b[0m\u001b[1;33m,\u001b[0m \u001b[0mindex\u001b[0m\u001b[1;33m,\u001b[0m \u001b[0mcolumns\u001b[0m\u001b[1;33m,\u001b[0m \u001b[0mdtype\u001b[0m\u001b[1;33m=\u001b[0m\u001b[0mdtype\u001b[0m\u001b[1;33m)\u001b[0m\u001b[1;33m\u001b[0m\u001b[1;33m\u001b[0m\u001b[0m\n\u001b[0m\u001b[0;32m    412\u001b[0m         \u001b[1;32melif\u001b[0m \u001b[0misinstance\u001b[0m\u001b[1;33m(\u001b[0m\u001b[0mdata\u001b[0m\u001b[1;33m,\u001b[0m \u001b[0mma\u001b[0m\u001b[1;33m.\u001b[0m\u001b[0mMaskedArray\u001b[0m\u001b[1;33m)\u001b[0m\u001b[1;33m:\u001b[0m\u001b[1;33m\u001b[0m\u001b[1;33m\u001b[0m\u001b[0m\n\u001b[0;32m    413\u001b[0m             \u001b[1;32mimport\u001b[0m \u001b[0mnumpy\u001b[0m\u001b[1;33m.\u001b[0m\u001b[0mma\u001b[0m\u001b[1;33m.\u001b[0m\u001b[0mmrecords\u001b[0m \u001b[1;32mas\u001b[0m \u001b[0mmrecords\u001b[0m\u001b[1;33m\u001b[0m\u001b[1;33m\u001b[0m\u001b[0m\n",
      "\u001b[1;32m~\\.conda\\envs\\factory619\\lib\\site-packages\\pandas\\core\\internals\\construction.py\u001b[0m in \u001b[0;36minit_dict\u001b[1;34m(data, index, columns, dtype)\u001b[0m\n\u001b[0;32m    255\u001b[0m             \u001b[0marr\u001b[0m \u001b[1;32mif\u001b[0m \u001b[1;32mnot\u001b[0m \u001b[0mis_datetime64tz_dtype\u001b[0m\u001b[1;33m(\u001b[0m\u001b[0marr\u001b[0m\u001b[1;33m)\u001b[0m \u001b[1;32melse\u001b[0m \u001b[0marr\u001b[0m\u001b[1;33m.\u001b[0m\u001b[0mcopy\u001b[0m\u001b[1;33m(\u001b[0m\u001b[1;33m)\u001b[0m \u001b[1;32mfor\u001b[0m \u001b[0marr\u001b[0m \u001b[1;32min\u001b[0m \u001b[0marrays\u001b[0m\u001b[1;33m\u001b[0m\u001b[1;33m\u001b[0m\u001b[0m\n\u001b[0;32m    256\u001b[0m         ]\n\u001b[1;32m--> 257\u001b[1;33m     \u001b[1;32mreturn\u001b[0m \u001b[0marrays_to_mgr\u001b[0m\u001b[1;33m(\u001b[0m\u001b[0marrays\u001b[0m\u001b[1;33m,\u001b[0m \u001b[0mdata_names\u001b[0m\u001b[1;33m,\u001b[0m \u001b[0mindex\u001b[0m\u001b[1;33m,\u001b[0m \u001b[0mcolumns\u001b[0m\u001b[1;33m,\u001b[0m \u001b[0mdtype\u001b[0m\u001b[1;33m=\u001b[0m\u001b[0mdtype\u001b[0m\u001b[1;33m)\u001b[0m\u001b[1;33m\u001b[0m\u001b[1;33m\u001b[0m\u001b[0m\n\u001b[0m\u001b[0;32m    258\u001b[0m \u001b[1;33m\u001b[0m\u001b[0m\n\u001b[0;32m    259\u001b[0m \u001b[1;33m\u001b[0m\u001b[0m\n",
      "\u001b[1;32m~\\.conda\\envs\\factory619\\lib\\site-packages\\pandas\\core\\internals\\construction.py\u001b[0m in \u001b[0;36marrays_to_mgr\u001b[1;34m(arrays, arr_names, index, columns, dtype)\u001b[0m\n\u001b[0;32m     77\u001b[0m         \u001b[0mindex\u001b[0m \u001b[1;33m=\u001b[0m \u001b[0mextract_index\u001b[0m\u001b[1;33m(\u001b[0m\u001b[0marrays\u001b[0m\u001b[1;33m)\u001b[0m\u001b[1;33m\u001b[0m\u001b[1;33m\u001b[0m\u001b[0m\n\u001b[0;32m     78\u001b[0m     \u001b[1;32melse\u001b[0m\u001b[1;33m:\u001b[0m\u001b[1;33m\u001b[0m\u001b[1;33m\u001b[0m\u001b[0m\n\u001b[1;32m---> 79\u001b[1;33m         \u001b[0mindex\u001b[0m \u001b[1;33m=\u001b[0m \u001b[0mensure_index\u001b[0m\u001b[1;33m(\u001b[0m\u001b[0mindex\u001b[0m\u001b[1;33m)\u001b[0m\u001b[1;33m\u001b[0m\u001b[1;33m\u001b[0m\u001b[0m\n\u001b[0m\u001b[0;32m     80\u001b[0m \u001b[1;33m\u001b[0m\u001b[0m\n\u001b[0;32m     81\u001b[0m     \u001b[1;31m# don't force copy because getting jammed in an ndarray anyway\u001b[0m\u001b[1;33m\u001b[0m\u001b[1;33m\u001b[0m\u001b[1;33m\u001b[0m\u001b[0m\n",
      "\u001b[1;32m~\\.conda\\envs\\factory619\\lib\\site-packages\\pandas\\core\\indexes\\base.py\u001b[0m in \u001b[0;36mensure_index\u001b[1;34m(index_like, copy)\u001b[0m\n\u001b[0;32m   5769\u001b[0m             \u001b[0mindex_like\u001b[0m \u001b[1;33m=\u001b[0m \u001b[0mcopy\u001b[0m\u001b[1;33m(\u001b[0m\u001b[0mindex_like\u001b[0m\u001b[1;33m)\u001b[0m\u001b[1;33m\u001b[0m\u001b[1;33m\u001b[0m\u001b[0m\n\u001b[0;32m   5770\u001b[0m \u001b[1;33m\u001b[0m\u001b[0m\n\u001b[1;32m-> 5771\u001b[1;33m     \u001b[1;32mreturn\u001b[0m \u001b[0mIndex\u001b[0m\u001b[1;33m(\u001b[0m\u001b[0mindex_like\u001b[0m\u001b[1;33m)\u001b[0m\u001b[1;33m\u001b[0m\u001b[1;33m\u001b[0m\u001b[0m\n\u001b[0m\u001b[0;32m   5772\u001b[0m \u001b[1;33m\u001b[0m\u001b[0m\n\u001b[0;32m   5773\u001b[0m \u001b[1;33m\u001b[0m\u001b[0m\n",
      "\u001b[1;32m~\\.conda\\envs\\factory619\\lib\\site-packages\\pandas\\core\\indexes\\base.py\u001b[0m in \u001b[0;36m__new__\u001b[1;34m(cls, data, dtype, copy, name, fastpath, tupleize_cols, **kwargs)\u001b[0m\n\u001b[0;32m    533\u001b[0m                     )\n\u001b[0;32m    534\u001b[0m             \u001b[1;31m# other iterable of some kind\u001b[0m\u001b[1;33m\u001b[0m\u001b[1;33m\u001b[0m\u001b[1;33m\u001b[0m\u001b[0m\n\u001b[1;32m--> 535\u001b[1;33m             \u001b[0msubarr\u001b[0m \u001b[1;33m=\u001b[0m \u001b[0mcom\u001b[0m\u001b[1;33m.\u001b[0m\u001b[0masarray_tuplesafe\u001b[0m\u001b[1;33m(\u001b[0m\u001b[0mdata\u001b[0m\u001b[1;33m,\u001b[0m \u001b[0mdtype\u001b[0m\u001b[1;33m=\u001b[0m\u001b[0mobject\u001b[0m\u001b[1;33m)\u001b[0m\u001b[1;33m\u001b[0m\u001b[1;33m\u001b[0m\u001b[0m\n\u001b[0m\u001b[0;32m    536\u001b[0m             \u001b[1;32mreturn\u001b[0m \u001b[0mIndex\u001b[0m\u001b[1;33m(\u001b[0m\u001b[0msubarr\u001b[0m\u001b[1;33m,\u001b[0m \u001b[0mdtype\u001b[0m\u001b[1;33m=\u001b[0m\u001b[0mdtype\u001b[0m\u001b[1;33m,\u001b[0m \u001b[0mcopy\u001b[0m\u001b[1;33m=\u001b[0m\u001b[0mcopy\u001b[0m\u001b[1;33m,\u001b[0m \u001b[0mname\u001b[0m\u001b[1;33m=\u001b[0m\u001b[0mname\u001b[0m\u001b[1;33m,\u001b[0m \u001b[1;33m**\u001b[0m\u001b[0mkwargs\u001b[0m\u001b[1;33m)\u001b[0m\u001b[1;33m\u001b[0m\u001b[1;33m\u001b[0m\u001b[0m\n\u001b[0;32m    537\u001b[0m \u001b[1;33m\u001b[0m\u001b[0m\n",
      "\u001b[1;32m~\\.conda\\envs\\factory619\\lib\\site-packages\\pandas\\core\\common.py\u001b[0m in \u001b[0;36masarray_tuplesafe\u001b[1;34m(values, dtype)\u001b[0m\n\u001b[0;32m    241\u001b[0m \u001b[1;33m\u001b[0m\u001b[0m\n\u001b[0;32m    242\u001b[0m     \u001b[1;32mif\u001b[0m \u001b[1;32mnot\u001b[0m \u001b[1;33m(\u001b[0m\u001b[0misinstance\u001b[0m\u001b[1;33m(\u001b[0m\u001b[0mvalues\u001b[0m\u001b[1;33m,\u001b[0m \u001b[1;33m(\u001b[0m\u001b[0mlist\u001b[0m\u001b[1;33m,\u001b[0m \u001b[0mtuple\u001b[0m\u001b[1;33m)\u001b[0m\u001b[1;33m)\u001b[0m \u001b[1;32mor\u001b[0m \u001b[0mhasattr\u001b[0m\u001b[1;33m(\u001b[0m\u001b[0mvalues\u001b[0m\u001b[1;33m,\u001b[0m \u001b[1;34m\"__array__\"\u001b[0m\u001b[1;33m)\u001b[0m\u001b[1;33m)\u001b[0m\u001b[1;33m:\u001b[0m\u001b[1;33m\u001b[0m\u001b[1;33m\u001b[0m\u001b[0m\n\u001b[1;32m--> 243\u001b[1;33m         \u001b[0mvalues\u001b[0m \u001b[1;33m=\u001b[0m \u001b[0mlist\u001b[0m\u001b[1;33m(\u001b[0m\u001b[0mvalues\u001b[0m\u001b[1;33m)\u001b[0m\u001b[1;33m\u001b[0m\u001b[1;33m\u001b[0m\u001b[0m\n\u001b[0m\u001b[0;32m    244\u001b[0m     \u001b[1;32melif\u001b[0m \u001b[0misinstance\u001b[0m\u001b[1;33m(\u001b[0m\u001b[0mvalues\u001b[0m\u001b[1;33m,\u001b[0m \u001b[0mABCIndexClass\u001b[0m\u001b[1;33m)\u001b[0m\u001b[1;33m:\u001b[0m\u001b[1;33m\u001b[0m\u001b[1;33m\u001b[0m\u001b[0m\n\u001b[0;32m    245\u001b[0m         \u001b[1;32mreturn\u001b[0m \u001b[0mvalues\u001b[0m\u001b[1;33m.\u001b[0m\u001b[0mvalues\u001b[0m\u001b[1;33m\u001b[0m\u001b[1;33m\u001b[0m\u001b[0m\n",
      "\u001b[1;31mTypeError\u001b[0m: 'type' object is not iterable"
     ]
    }
   ],
   "source": [
    "import pandas as pd\n",
    "df = pd.DataFrame(\n",
    "     {'Article Content': final_article},index=int)\n"
   ]
  },
  {
   "cell_type": "code",
   "execution_count": 138,
   "metadata": {},
   "outputs": [],
   "source": [
    "# import requests as re \n",
    "# test=re.get(\"https://local.theonion.com/man-talking-big-game-about-having-shroom-hookup-folds-a-1842156433\")\n",
    "# soup=BeautifulSoup(test.content, 'html.parser')\n",
    "df[\"satire\"]=0\n",
    "df.to_csv(\"test.csv\")\n",
    "#scraping have been blocked after 20 request on this site    i need to change ip while scraping art\n",
    "#same happened with the newspaper3k and the onion website"
   ]
  },
  {
   "cell_type": "code",
   "execution_count": 15,
   "metadata": {},
   "outputs": [],
   "source": [
    "list_of_satire_website=[\"https://www.theonion.com/\",\"https://babylonbee.com/\",\"http://www.bbspot.com/\",\"https://www.thebeaverton.com/\",\"https://www.newyorker.com/humor/borowitz-report\",\"https://www.burrardstreetjournal.com/\",\"https://www.clickhole.com/\",\"https://www.cracked.com/\",\"https://www.thedailymash.co.uk/\"]"
   ]
  },
  {
   "cell_type": "code",
   "execution_count": 16,
   "metadata": {},
   "outputs": [],
   "source": [
    "l=[]\n",
    "for url in list_of_satire_website:\n",
    "    l=l+scrapwebsite(url)\n",
    "#     l.append()\n",
    "#complete the process by  putting all the data in a data frame  and "
   ]
  },
  {
   "cell_type": "code",
   "execution_count": null,
   "metadata": {},
   "outputs": [],
   "source": [
    "\n"
   ]
  },
  {
   "cell_type": "code",
   "execution_count": null,
   "metadata": {},
   "outputs": [],
   "source": []
  },
  {
   "cell_type": "code",
   "execution_count": null,
   "metadata": {},
   "outputs": [],
   "source": []
  },
  {
   "cell_type": "code",
   "execution_count": null,
   "metadata": {},
   "outputs": [],
   "source": []
  },
  {
   "cell_type": "code",
   "execution_count": null,
   "metadata": {},
   "outputs": [],
   "source": []
  },
  {
   "cell_type": "code",
   "execution_count": null,
   "metadata": {},
   "outputs": [],
   "source": []
  },
  {
   "cell_type": "code",
   "execution_count": null,
   "metadata": {},
   "outputs": [],
   "source": []
  }
 ],
 "metadata": {
  "kernelspec": {
   "display_name": "Python 3",
   "language": "python",
   "name": "python3"
  },
  "language_info": {
   "codemirror_mode": {
    "name": "ipython",
    "version": 3
   },
   "file_extension": ".py",
   "mimetype": "text/x-python",
   "name": "python",
   "nbconvert_exporter": "python",
   "pygments_lexer": "ipython3",
   "version": "3.7.4"
  }
 },
 "nbformat": 4,
 "nbformat_minor": 4
}
